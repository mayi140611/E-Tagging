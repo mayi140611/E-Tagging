{
 "cells": [
  {
   "cell_type": "code",
   "execution_count": 1,
   "metadata": {},
   "outputs": [
    {
     "name": "stderr",
     "output_type": "stream",
     "text": [
      "C:\\Users\\Ian\\Anaconda3\\lib\\site-packages\\h5py\\__init__.py:36: FutureWarning: Conversion of the second argument of issubdtype from `float` to `np.floating` is deprecated. In future, it will be treated as `np.float64 == np.dtype(float).type`.\n",
      "  from ._conv import register_converters as _register_converters\n"
     ]
    }
   ],
   "source": [
    "import tensorflow as tf\n",
    "import numpy as np\n",
    "import os, time, random\n",
    "from utils import str2bool, get_logger, get_entity\n",
    "from data import random_embedding,tag2label\n",
    "import datapreprocessing as dp\n",
    "from model import BiLSTM_CRF"
   ]
  },
  {
   "cell_type": "code",
   "execution_count": 2,
   "metadata": {},
   "outputs": [],
   "source": [
    "## Session configuration\n",
    "os.environ['CUDA_VISIBLE_DEVICES'] = '0'\n",
    "os.environ['TF_CPP_MIN_LOG_LEVEL'] = '2'  # default: 0\n",
    "config = tf.ConfigProto()\n",
    "# config.gpu_options.allow_growth = True\n",
    "# config.gpu_options.per_process_gpu_memory_fraction = 0.2  # need ~700MB GPU memory"
   ]
  },
  {
   "cell_type": "code",
   "execution_count": 3,
   "metadata": {},
   "outputs": [],
   "source": [
    "## paths setting\n",
    "paths = {}\n",
    "timestamp='1528948031'\n",
    "output_path = os.path.join('.', 'data_path'+\"_save\", timestamp)\n",
    "if not os.path.exists(output_path): os.makedirs(output_path)\n",
    "summary_path = os.path.join(output_path, \"summaries\")\n",
    "paths['summary_path'] = summary_path\n",
    "if not os.path.exists(summary_path): os.makedirs(summary_path)\n",
    "model_path = os.path.join(output_path, \"checkpoints/\")\n",
    "if not os.path.exists(model_path): os.makedirs(model_path)\n",
    "ckpt_prefix = os.path.join(model_path, \"model\")\n",
    "paths['model_path'] = ckpt_prefix\n",
    "result_path = os.path.join(output_path, \"results\")\n",
    "paths['result_path'] = result_path\n",
    "if not os.path.exists(result_path): os.makedirs(result_path)\n",
    "log_path = os.path.join(result_path, \"log.txt\")\n",
    "paths['log_path'] = log_path"
   ]
  },
  {
   "cell_type": "code",
   "execution_count": 4,
   "metadata": {},
   "outputs": [
    {
     "name": "stdout",
     "output_type": "stream",
     "text": [
      "vocab_size: 1011\n"
     ]
    }
   ],
   "source": [
    "## get char embeddings\n",
    "word2id = dp.loadVocab('word2id.pkl')"
   ]
  },
  {
   "cell_type": "code",
   "execution_count": 5,
   "metadata": {},
   "outputs": [],
   "source": [
    "embeddings = np.load('pretrain_embedding.npy')"
   ]
  },
  {
   "cell_type": "code",
   "execution_count": 6,
   "metadata": {},
   "outputs": [],
   "source": [
    "test_path = os.path.join('.', 'data_path', 'test_data')\n",
    "test_data = read_corpus(test_path)\n",
    "test_size = len(test_data)"
   ]
  },
  {
   "cell_type": "code",
   "execution_count": 7,
   "metadata": {},
   "outputs": [
    {
     "name": "stdout",
     "output_type": "stream",
     "text": [
      ".\\data_path_save\\1526890202\\checkpoints/model-31680\n"
     ]
    },
    {
     "name": "stderr",
     "output_type": "stream",
     "text": [
      "C:\\Users\\Ian\\Anaconda3\\lib\\site-packages\\tensorflow\\python\\ops\\gradients_impl.py:96: UserWarning: Converting sparse IndexedSlices to a dense Tensor of unknown shape. This may consume a large amount of memory.\n",
      "  \"Converting sparse IndexedSlices to a dense Tensor of unknown shape. \"\n",
      "=========== testing ===========\n"
     ]
    },
    {
     "name": "stdout",
     "output_type": "stream",
     "text": [
      "test data: 4631\n",
      "INFO:tensorflow:Restoring parameters from .\\data_path_save\\1526890202\\checkpoints/model-31680\n"
     ]
    },
    {
     "name": "stderr",
     "output_type": "stream",
     "text": [
      "Restoring parameters from .\\data_path_save\\1526890202\\checkpoints/model-31680\n"
     ]
    }
   ],
   "source": [
    "## testing model\n",
    "# elif args.mode == 'test':\n",
    "#     ckpt_file = tf.train.latest_checkpoint(model_path)\n",
    "#     print(ckpt_file)\n",
    "#     paths['model_path'] = ckpt_file\n",
    "#     model = BiLSTM_CRF(args, embeddings, tag2label, word2id, paths, config=config)\n",
    "#     model.build_graph()\n",
    "#     print(\"test data: {}\".format(test_size))\n",
    "#     model.test(test_data)\n",
    "## testing model\n",
    "ckpt_file = tf.train.latest_checkpoint(model_path)\n",
    "print(ckpt_file)\n",
    "paths['model_path'] = ckpt_file\n",
    "model = BiLSTM_CRF(embeddings, tag2label, word2id, paths, config=config)\n",
    "model.build_graph()\n",
    "print(\"test data: {}\".format(test_size))\n",
    "model.test(test_data)"
   ]
  },
  {
   "cell_type": "code",
   "execution_count": 9,
   "metadata": {},
   "outputs": [
    {
     "data": {
      "text/plain": [
       "'.\\\\data_path_save\\\\1526890202\\\\checkpoints/'"
      ]
     },
     "execution_count": 9,
     "metadata": {},
     "output_type": "execute_result"
    }
   ],
   "source": [
    "model_path"
   ]
  },
  {
   "cell_type": "code",
   "execution_count": 6,
   "metadata": {},
   "outputs": [
    {
     "name": "stdout",
     "output_type": "stream",
     "text": [
      ".\\data_path_save\\1528948031\\checkpoints/model-360\n"
     ]
    },
    {
     "name": "stderr",
     "output_type": "stream",
     "text": [
      "C:\\Users\\Ian\\Anaconda3\\lib\\site-packages\\tensorflow\\python\\ops\\gradients_impl.py:100: UserWarning: Converting sparse IndexedSlices to a dense Tensor of unknown shape. This may consume a large amount of memory.\n",
      "  \"Converting sparse IndexedSlices to a dense Tensor of unknown shape. \"\n"
     ]
    },
    {
     "name": "stdout",
     "output_type": "stream",
     "text": [
      "============= demo =============\n",
      "INFO:tensorflow:Restoring parameters from .\\data_path_save\\1528948031\\checkpoints/model-360\n"
     ]
    },
    {
     "name": "stderr",
     "output_type": "stream",
     "text": [
      "Restoring parameters from .\\data_path_save\\1528948031\\checkpoints/model-360\n"
     ]
    },
    {
     "name": "stdout",
     "output_type": "stream",
     "text": [
      "Please input your sentence:\n",
      "患者自述近几天病情有反复，睡眠差，需要吃助眠药物，情绪显低，不愿意做事。\n",
      "[0, 0, 0, 0, 0, 0, 0, 0, 0, 0, 0, 0, 0, 'B-ZS', 'I-ZS', 'I-ZS', 0, 0, 0, 0, 0, 0, 'I-ZL', 0, 0, 0, 0, 0, 0, 0, 0, 0, 'I-ZS', 'I-ZS', 'I-ZS', 0]\n",
      "ZS: ['睡眠差']\n",
      "Please input your sentence:\n",
      "病情稳定，夜眠差，服药后未见躯体不适及药物不良反应，要求继续配药。\n",
      "[0, 0, 0, 0, 0, 'B-ZS', 'I-ZS', 'I-ZS', 0, 0, 'I-ZL', 0, 0, 0, 0, 0, 0, 0, 0, 0, 'I-ZS', 'I-ZS', 'I-ZS', 'I-ZS', 'I-ZS', 0, 0, 0, 0, 0, 'B-ZL', 'I-ZL', 0]\n",
      "ZS: ['夜眠差']\n",
      "Please input your sentence:\n",
      "患者三周无明显诱因下出现心悸、胸闷，无胸痛、气急等不适，面色黧黑，胃纳可，二便调，夜寐安。\n",
      "[0, 0, 0, 0, 0, 0, 0, 0, 0, 0, 0, 0, 'B-ZS', 'I-ZS', 0, 'B-ZS', 'I-ZS', 0, 0, 'B-1ZS', 'I-1ZS', 0, 'B-1ZS', 'I-1ZS', 0, 0, 0, 0, 'B-ZS', 'I-ZS', 'I-ZS', 'I-ZS', 0, 0, 0, 0, 0, 0, 0, 0, 0, 0, 0, 0, 0]\n",
      "ZS: ['心悸', '胸闷', '面色黧黑']\n",
      "Please input your sentence:\n",
      "咽痛，咳嗽，5天，无胸痛，无发热。\n",
      "['B-ZS', 'I-ZS', 0, 'B-ZS', 'I-ZS', 0, 0, 0, 0, 0, 'B-1ZS', 'I-1ZS', 0, 0, 'B-1ZS', 'I-1ZS', 0]\n",
      "ZS: ['咽痛', '咳嗽']\n",
      "Please input your sentence:\n",
      "胸闷，头晕头胀，无头痛黑蒙，无恶心呕吐，无胸痛心悸，无行走不稳\n",
      "['B-ZS', 'I-ZS', 0, 'B-ZS', 'I-ZS', 'B-ZS', 'I-ZS', 0, 0, 'B-1ZS', 'I-1ZS', 'B-1ZS', 'I-1ZS', 0, 0, 'B-1ZS', 'I-1ZS', 'B-1ZS', 'I-1ZS', 0, 0, 'B-1ZS', 'I-1ZS', 'B-1ZS', 'I-1ZS', 0, 0, 'B-1ZS', 'I-1ZS', 'I-1ZS', 'I-1ZS']\n",
      "ZS: ['胸闷', '头晕', '头胀']\n",
      "Please input your sentence:\n",
      "有糖尿病史多年，目前无口渴，无多尿，无多食等症状。今药服完配药。\n",
      "[0, 'B-B', 'I-B', 'I-B', 'I-B', 0, 0, 0, 0, 0, 0, 'B-1ZS', 'I-1ZS', 0, 0, 'B-1ZS', 'I-1ZS', 0, 0, 'B-1ZS', 'I-1ZS', 0, 0, 0, 0, 0, 0, 0, 0, 'B-ZL', 'I-ZL', 0]\n",
      "ZS: []\n",
      "Please input your sentence:\n",
      "于2月前始出现颈项、肩、背部板滞、酸痛伴头晕、不适，近10余日症状加重。入后夜尤甚,有劳累史。 健康证体检\n",
      "[0, 0, 0, 0, 0, 0, 0, 'B-W', 'I-W', 0, 'B-W', 0, 'B-W', 'I-W', 'B-ZS', 'I-ZS', 0, 'B-ZS', 'I-ZS', 0, 'B-ZS', 'I-ZS', 0, 'B-ZS', 'I-ZS', 0, 0, 0, 0, 0, 0, 0, 0, 0, 0, 0, 0, 0, 0, 0, 0, 0, 0, 'B-3ZS', 'I-3ZS', 'I-3ZS', 0, 0, 0, 0, 0, 'B-T', 'I-T']\n",
      "ZS: ['板滞', '酸痛', '头晕', '不适']\n",
      "Please input your sentence:\n",
      "3天前受凉诱发起病，出现咽痛、鼻塞、流涕，有咳嗽、咳痰，为干咳，自服克感敏后好转。近日尿频、尿痛\n",
      "[0, 0, 0, 0, 0, 0, 0, 0, 0, 0, 0, 0, 'B-ZS', 'I-ZS', 0, 'B-ZS', 'I-ZS', 0, 'B-ZS', 'I-ZS', 0, 0, 'B-ZS', 'I-ZS', 0, 'B-ZS', 'I-ZS', 0, 0, 'B-ZS', 'I-ZS', 0, 0, 0, 'B-YW', 'I-YW', 'I-YW', 0, 0, 0, 0, 0, 0, 'B-ZS', 'I-ZS', 0, 'B-ZS', 'I-ZS']\n",
      "ZS: ['咽痛', '鼻塞', '流涕', '咳嗽', '咳痰', '干咳', '尿频', '尿痛']\n",
      "Please input your sentence:\n",
      "尿频\n",
      "['I-B', 'I-ZS']\n",
      "ZS: []\n",
      "Please input your sentence:\n",
      "干咳\n",
      "['I-ZS', 'I-ZS']\n",
      "ZS: []\n",
      "Please input your sentence:\n",
      "自服克感敏后好转\n",
      "[0, 0, 'B-YW', 'I-YW', 'I-YW', 0, 0, 0]\n",
      "ZS: []\n",
      "Please input your sentence:\n",
      "克感敏\n",
      "['B-B', 'I-B', 'I-B']\n",
      "ZS: []\n",
      "Please input your sentence:\n",
      "有糖尿病史多年，目前无口渴，无多尿，无多食等症状。今药服完配药。\n",
      "[0, 'B-B', 'I-B', 'I-B', 'I-B', 0, 0, 0, 0, 0, 0, 'B-1ZS', 'I-1ZS', 0, 0, 'B-1ZS', 'I-1ZS', 0, 0, 'B-1ZS', 'I-1ZS', 0, 0, 0, 0, 0, 0, 0, 0, 'B-ZL', 'I-ZL', 0]\n",
      "ZS: []\n",
      "Please input your sentence:\n",
      "患者三周无明显诱因下出现心悸、胸闷，无胸痛、气急等不适，面色黧黑，胃纳可，二便调，夜寐安\n",
      "[0, 0, 0, 0, 0, 0, 0, 0, 0, 0, 0, 0, 'B-ZS', 'I-ZS', 0, 'B-ZS', 'I-ZS', 0, 0, 'B-1ZS', 'I-1ZS', 0, 'B-1ZS', 'I-1ZS', 0, 0, 0, 0, 'B-ZS', 'I-ZS', 'I-ZS', 'I-ZS', 0, 0, 0, 0, 0, 0, 0, 0, 0, 0, 0, 0]\n",
      "ZS: ['心悸', '胸闷', '面色黧黑']\n",
      "Please input your sentence:\n",
      "患者自述近几天病情有反复，睡眠差，需要吃助眠药物，情绪显低，不愿意做事。\n",
      "[0, 0, 0, 0, 0, 0, 0, 0, 0, 0, 0, 0, 0, 'B-ZS', 'I-ZS', 'I-ZS', 0, 0, 0, 0, 0, 0, 'I-ZL', 0, 0, 0, 0, 0, 0, 0, 0, 0, 'I-ZS', 'I-ZS', 'I-ZS', 0]\n",
      "ZS: ['睡眠差']\n",
      "Please input your sentence:\n",
      "胸闷较前好转，仍有焦虑、紧张。\n",
      "['B-1ZS', 'I-1ZS', 0, 0, 0, 0, 0, 0, 0, 'B-ZS', 0, 0, 'B-ZS', 'I-ZS', 0]\n",
      "ZS: ['焦', '紧张']\n",
      "Please input your sentence:\n",
      "病情同前，夜眠可，情绪稳定，有时有流口水。\n",
      "[0, 0, 0, 0, 0, 0, 0, 0, 0, 0, 0, 0, 0, 0, 0, 0, 0, 'B-6ZS', 'I-6ZS', 'I-6ZS', 0]\n",
      "ZS: []\n",
      "Please input your sentence:\n",
      "患者病情未有明显好转，生活代理，大小便代理，要求复诊配药\n",
      "[0, 0, 0, 0, 0, 0, 0, 0, 0, 0, 0, 0, 0, 0, 0, 0, 'B-ZS', 'I-ZS', 'I-ZS', 0, 0, 0, 0, 0, 'B-ZL', 'I-ZL', 'B-ZL', 'I-ZL']\n",
      "ZS: ['大小便']\n",
      "Please input your sentence:\n",
      "服用利培酮0.5/日，眠可，出现头颈强，要求调药。\n",
      "[0, 0, 0, 0, 0, 0, 0, 0, 0, 0, 0, 0, 0, 0, 0, 0, 'B-ZS', 'I-ZS', 'I-ZS', 0, 0, 0, 0, 0, 0]\n",
      "ZS: ['头颈强']\n",
      "Please input your sentence:\n",
      "情绪好转，夜眠好，有时白天感乏力，配药。\n",
      "[0, 0, 0, 0, 0, 0, 0, 0, 0, 0, 0, 'I-ZS', 'I-ZS', 'B-ZS', 'I-ZS', 'I-ZS', 0, 'B-ZL', 'I-ZL', 0]\n",
      "ZS: ['感乏力']\n",
      "Please input your sentence:\n",
      "病情较前稍有好转，配药，无躯体不适主诉。\n",
      "[0, 0, 0, 0, 0, 0, 0, 0, 0, 'B-ZL', 'I-ZL', 0, 0, 'B-1ZS', 'I-1ZS', 'I-1ZS', 0, 0, 0, 0]\n",
      "ZS: []\n",
      "Please input your sentence:\n",
      "胸闷心悸。患者近日自觉胸闷心悸反复发作，怕冷,乏力,小便清长,无明显胸痛，无晕厥黑朦，2014年六院行冠脉CT检查提示心肌桥,冠脉无明显狭窄,(具体报告未见)。平素服用倍他乐克、瑞舒伐他汀、拜阿司匹林每天\n",
      "['B-ZS', 'I-ZS', 'I-ZS', 'I-ZS', 0, 0, 0, 0, 0, 0, 0, 'B-ZS', 'I-ZS', 'B-ZS', 'I-ZS', 0, 0, 0, 0, 0, 'B-ZS', 'I-ZS', 0, 'B-ZS', 'I-ZS', 0, 0, 0, 0, 0, 0, 0, 0, 0, 'B-1ZS', 'I-1ZS', 0, 0, 'B-1ZS', 'I-1ZS', 0, 0, 0, 0, 0, 0, 0, 0, 0, 0, 0, 'B-T', 'I-T', 'I-T', 'I-T', 'I-T', 0, 0, 0, 'B-JC', 'I-JC', 'I-JC', 0, 'B-JC', 'I-JC', 0, 0, 0, 0, 'I-1ZS', 0, 0, 0, 0, 0, 0, 0, 0, 0, 0, 0, 0, 0, 0, 0, 0, 'I-7YW', 'I-7YW', 0, 'B-7YW', 'I-7YW', 'I-7YW', 0, 0, 0, 'B-7YW', 'I-7YW', 'I-7YW', 'I-7YW', 'I-7YW', 0, 0]\n",
      "ZS: ['胸闷心悸', '胸闷', '心悸', '怕冷', '乏力']\n",
      "Please input your sentence:\n",
      "肛门疼痛1周。大便日行1-2次，有时干硬。无粘冻便，有时便血鲜红染纸。肛门有时灼热感，肛门有时刺痛。\n",
      "['I-ZS', 0, 'B-ZS', 'I-ZS', 0, 0, 0, 'B-ZS', 'I-ZS', 0, 0, 0, 0, 0, 0, 0, 0, 0, 'I-ZS', 'I-ZS', 0, 0, 'B-1ZS', 'I-1ZS', 'I-1ZS', 0, 0, 0, 0, 'I-B', 'I-B', 'I-B', 'I-B', 0, 0, 0, 0, 0, 0, 'B-6ZS', 'I-6ZS', 'I-6ZS', 0, 0, 0, 0, 0, 'I-6ZS', 'I-6ZS', 0]\n",
      "ZS: ['疼痛', '大便']\n",
      "Please input your sentence:\n",
      "\n",
      "See you next time!\n"
     ]
    }
   ],
   "source": [
    "## demo\n",
    "ckpt_file = tf.train.latest_checkpoint(model_path)\n",
    "print(ckpt_file)\n",
    "paths['model_path'] = ckpt_file\n",
    "model = BiLSTM_CRF(embeddings, tag2label, word2id, paths, config=config)\n",
    "model.build_graph()\n",
    "saver = tf.train.Saver()\n",
    "with tf.Session(config=config) as sess:\n",
    "    print('============= demo =============')\n",
    "    saver.restore(sess, ckpt_file)\n",
    "    while(1):\n",
    "        print('Please input your sentence:')\n",
    "        demo_sent = input()\n",
    "        if demo_sent == '' or demo_sent.isspace():\n",
    "            print('See you next time!')\n",
    "            break\n",
    "        else:\n",
    "            demo_sent = list(demo_sent.strip())\n",
    "            demo_data = [(demo_sent, ['O'] * len(demo_sent))]\n",
    "            tag = model.demo_one(sess, demo_data)\n",
    "            print(tag)\n",
    "            ZS = get_entity(tag, demo_sent)\n",
    "            print('ZS: {}'.format(ZS))\n",
    "#             PER, LOC, ORG = get_entity(tag, demo_sent)\n",
    "#             print('PER: {}\\nLOC: {}\\nORG: {}'.format(PER, LOC, ORG))"
   ]
  },
  {
   "cell_type": "code",
   "execution_count": 16,
   "metadata": {},
   "outputs": [
    {
     "name": "stdout",
     "output_type": "stream",
     "text": [
      "============= demo =============\n",
      "INFO:tensorflow:Restoring parameters from .\\data_path_save\\1528948031\\checkpoints/model-360\n"
     ]
    },
    {
     "name": "stderr",
     "output_type": "stream",
     "text": [
      "Restoring parameters from .\\data_path_save\\1528948031\\checkpoints/model-360\n"
     ]
    }
   ],
   "source": [
    "with tf.Session(config=config) as sess:\n",
    "    print('============= demo =============')\n",
    "    saver.restore(sess, ckpt_file)\n",
    "    corpus_dir = 'D:\\\\Desktop\\\\产品\\\\辅诊\\\\cndata\\\\ru1_tb_cis_mzdzbl\\\\tt'\n",
    "    for s in os.listdir(corpus_dir):\n",
    "        if s.endswith('.csv'):\n",
    "            with open(os.path.join(corpus_dir,s),'r',encoding='utf8') as f:\n",
    "                l = f.readlines()\n",
    "            with open(os.path.join(corpus_dir,'marked{}'.format(s)),'a',encoding='utf8') as f:\n",
    "                for demo_sent in l:\n",
    "                    if demo_sent:\n",
    "                        demo_sent = list(demo_sent.strip())\n",
    "                        demo_data = [(demo_sent, ['O'] * len(demo_sent))]\n",
    "                        tag = model.demo_one(sess, demo_data)\n",
    "                        count = 0\n",
    "                        mark = 0\n",
    "                        for i in range(len(tag)):\n",
    "                            if tag[i] == 0:\n",
    "                                tag[i] = 'O'\n",
    "                            if mark == 0:\n",
    "                                if tag[i].startswith('B'):\n",
    "                                    if i != 0 and tag[i-1]=='O':\n",
    "                                        demo_sent.insert(i+count,'/o')\n",
    "                                        count += 1\n",
    "                                        mark = 1\n",
    "                            elif mark == 1:\n",
    "                                if tag[i].startswith('B'):\n",
    "                                    demo_sent.insert(i+count,'/{}'.format(tag[i-1][2:].lower()))\n",
    "                                    count += 1\n",
    "                                elif tag[i].startswith('O'):\n",
    "                                    demo_sent.insert(i+count,'/{}'.format(tag[i-1][2:].lower()))\n",
    "                                    count += 1\n",
    "                                    mark = 0\n",
    "                        f.write(''.join(demo_sent)+'\\n')"
   ]
  }
 ],
 "metadata": {
  "kernelspec": {
   "display_name": "Python 3",
   "language": "python",
   "name": "python3"
  },
  "language_info": {
   "codemirror_mode": {
    "name": "ipython",
    "version": 3
   },
   "file_extension": ".py",
   "mimetype": "text/x-python",
   "name": "python",
   "nbconvert_exporter": "python",
   "pygments_lexer": "ipython3",
   "version": "3.6.4"
  }
 },
 "nbformat": 4,
 "nbformat_minor": 2
}
